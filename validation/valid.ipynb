{
 "cells": [
  {
   "cell_type": "code",
   "execution_count": 77,
   "metadata": {},
   "outputs": [
    {
     "name": "stdout",
     "output_type": "stream",
     "text": [
      "[]\n",
      "<type 'list'>\n",
      "[array([ 365788.]), array([ 267102.]), array([ 170941.]), array([ 243293.]), array([ 267093.]), array([ 370448.]), array([ 197091.]), array([ 130724.]), array([ 288589.]), array([ 248546.]), array([ 257486.]), array([ 288542.]), array([ 251654.]), array([ 288558.]), array([ 63744.]), array([ 357091.]), array([ 271442.]), array([ 304110.]), array([ 187922.]), array([ 213625.]), array([ 249201.]), array([ 231330.]), array([ 182245.]), array([ 211788.]), array([ 224305.]), array([ 273746.]), array([ 339288.]), array([ 216582.]), array([ 210500.]), array([ 272880.]), array([ 477.]), array([ 269076.]), array([ 428780.]), array([ 211844.]), array([ 206121.]), array([ 174246.]), array([ 510364.]), array([ 365038.]), array([ 365163.]), array([ 162779.]), array([ 236457.]), array([ 1072321.]), array([ 261516.]), array([ 329078.]), array([ 184899.]), array([ 192008.]), array([ 263413.]), array([ 262663.]), array([ 374125.]), array([ 278601.]), array([ 199157.]), array([ 96840.]), array([ 80818.]), array([ 213999.]), array([ 210692.]), array([ 222093.]), array([ 440698.]), array([ 240189.]), array([ 420636.]), array([ 275101.]), array([ 314288.]), array([ 94941.]), array([ 239502.]), array([ 1111258.]), array([ 6615.]), array([ 655037.]), array([ 404338.]), array([ 26704229.]), array([ 259996.]), array([ 317543.]), array([ 201955.]), array([ 248146.]), array([ 76399.]), array([ 262788.]), array([ 261809.]), array([ 248017.]), array([ 229284.]), array([ 231946.]), array([ 221003.]), array([ 158403.]), array([ 250100.]), array([ 492375.]), array([ 1060932.]), array([ 261879.]), array([ 239671.]), array([ 304588.]), array([ 309946.]), array([ 85274.]), array([ 247338.]), array([ 349487.]), array([ 330546.]), array([ 415189.]), array([ 265214.]), array([ 278601.]), array([ 274975.])]\n",
      "[0.0, 0.0, 0.0, 1.0, 0.0, 0.0, 0.0, 0.0, 0.0, 0.0, 0.0, 1.0, 0.0, 0.0, 0.0, 0.0, 0.0, 0.0, 0.0, 0.0, 1.0, 0.0, 0.0, 0.0, 1.0, 0.0, 0.0, 0.0, 0.0, 0.0, 0.0, 0.0, 0.0, 1.0, 0.0, 0.0, 0.0, 0.0, 1.0, 0.0, 0.0, 1.0, 0.0, 0.0, 0.0, 0.0, 0.0, 0.0, 0.0, 1.0, 0.0, 0.0, 0.0, 1.0, 0.0, 0.0, 1.0, 1.0, 1.0, 0.0, 0.0, 0.0, 0.0, 1.0, 0.0, 0.0, 0.0, 0.0, 0.0, 0.0, 0.0, 0.0, 0.0, 0.0, 0.0, 0.0, 0.0, 0.0, 0.0, 1.0, 0.0, 0.0, 0.0, 0.0, 0.0, 0.0, 1.0, 0.0, 0.0, 0.0, 0.0, 1.0, 0.0, 0.0, 1.0]\n",
      "<type 'list'>\n"
     ]
    }
   ],
   "source": [
    "# %load validate_poi.py\n",
    "#!/usr/bin/python\n",
    "\n",
    "\n",
    "\"\"\"\n",
    "    Starter code for the validation mini-project.\n",
    "    The first step toward building your POI identifier!\n",
    "\n",
    "    Start by loading/formatting the data\n",
    "\n",
    "    After that, it's not our code anymore--it's yours!\n",
    "\"\"\"\n",
    "\n",
    "import pickle\n",
    "import sys\n",
    "sys.path.append(\"../tools/\")\n",
    "from feature_format import featureFormat, targetFeatureSplit\n",
    "\n",
    "data_dict = pickle.load(open(\"../final_project/final_project_dataset.pkl\", \"r\") )\n",
    "\n",
    "### first element is our labels, any added elements are predictor\n",
    "### features. Keep this the same for the mini-project, but you'll\n",
    "### have a different feature list when you do the final project.\n",
    "features_list = [\"poi\", \"salary\"]\n",
    "\n",
    "data = featureFormat(data_dict, features_list)\n",
    "features = targetFeatureSplit(data)\n",
    "from sklearn import tree\n",
    "from sklearn.metrics import accuracy_score as acc\n",
    "\n",
    "from sklearn.cross_validation import train_test_split\n",
    "clf=tree.DecisionTreeClassifier()\n",
    "\n",
    "\n",
    "\n",
    "\n",
    "\n",
    "features_train,features_test=train_test_split(features,test_size=0.3,random_state=42)\n",
    "\n",
    "\n",
    "\n",
    "ad=[]\n",
    "print ad\n",
    "print type(features_test)\n",
    "\n",
    "print features_test[0]\n",
    "ad=features[0]\n",
    "print ad\n",
    "print type(ad)\n",
    "\n",
    "\n"
   ]
  },
  {
   "cell_type": "code",
   "execution_count": null,
   "metadata": {
    "collapsed": true
   },
   "outputs": [],
   "source": []
  }
 ],
 "metadata": {
  "kernelspec": {
   "display_name": "Python 2",
   "language": "python",
   "name": "python2"
  },
  "language_info": {
   "codemirror_mode": {
    "name": "ipython",
    "version": 2
   },
   "file_extension": ".py",
   "mimetype": "text/x-python",
   "name": "python",
   "nbconvert_exporter": "python",
   "pygments_lexer": "ipython2",
   "version": "2.7.13"
  }
 },
 "nbformat": 4,
 "nbformat_minor": 2
}
