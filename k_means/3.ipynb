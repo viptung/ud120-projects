{
 "cells": [
  {
   "cell_type": "code",
   "execution_count": 12,
   "metadata": {},
   "outputs": [
    {
     "data": {
      "image/png": "[encoded data removed]",
      "text/plain": [
       "<matplotlib.figure.Figure at 0x9f4e6d8>"
      ]
     },
     "metadata": {},
     "output_type": "display_data"
    },
    {
     "name": "stdout",
     "output_type": "stream",
     "text": [
      "[0 0 0 0 0 0 0 0 0 0 0 0 0 0 0 0 0 0 0 0 0 0 0 0 0 0 0 0 0 0 0 0 0 0 0 0 0\n",
      " 0 0 0 0 0 0 0 0 0 0 0 0 0 0 0 0 0 0 0 0 0 0 0 0 1 0 0 0 0 0 0 0 0 0 0 0 0\n",
      " 0 0 0 0 0 0 0 0 0 0 2 0 0 0 0 0 2 0 0 0 0 0 0 0 0 0 0 0 0 0 0 0 0 0 0 0 0\n",
      " 0 0 0 0 0 0 0 0 0 2 0 0 2 2 0 0 0 0 0 0 0 0 0 0 0 0 0 0]\n"
     ]
    },
    {
     "data": {
      "image/png": "[encoded data removed]",
      "text/plain": [
       "<matplotlib.figure.Figure at 0xa33d3c8>"
      ]
     },
     "metadata": {},
     "output_type": "display_data"
    }
   ],
   "source": [
    "# %load k_means_cluster.py\n",
    "#!/usr/bin/python \n",
    "\n",
    "\"\"\" \n",
    "    Skeleton code for k-means clustering mini-project.\n",
    "\"\"\"\n",
    "\n",
    "\n",
    "\n",
    "\n",
    "import pickle\n",
    "import numpy\n",
    "import matplotlib.pyplot as plt\n",
    "import sys\n",
    "sys.path.append(\"../tools/\")\n",
    "from feature_format import featureFormat, targetFeatureSplit\n",
    "\n",
    "\n",
    "\n",
    "\n",
    "def Draw(pred, features, poi, mark_poi=False, name=\"image.png\", f1_name=\"feature 1\", f2_name=\"feature 2\"):\n",
    "    \"\"\" some plotting code designed to help you visualize your clusters \"\"\"\n",
    "\n",
    "    ### plot each cluster with a different color--add more colors for\n",
    "    ### drawing more than five clusters\n",
    "    colors = [\"b\", \"c\", \"k\", \"m\", \"g\"]\n",
    "    for ii, pp in enumerate(pred):\n",
    "        plt.scatter(features[ii][0], features[ii][1], color = colors[pred[ii]])\n",
    "\n",
    "    ### if you like, place red stars over points that are POIs (just for funsies)\n",
    "    if mark_poi:\n",
    "        for ii, pp in enumerate(pred):\n",
    "            if poi[ii]:\n",
    "                plt.scatter(features[ii][0], features[ii][1], color=\"r\", marker=\"*\")\n",
    "    plt.xlabel(f1_name)\n",
    "    plt.ylabel(f2_name)\n",
    "    plt.savefig(name)\n",
    "    plt.show()\n",
    "\n",
    "\n",
    "\n",
    "### load in the dict of dicts containing all the data on each person in the dataset\n",
    "data_dict = pickle.load( open(\"../final_project/final_project_dataset.pkl\", \"r\") )\n",
    "### there's an outlier--remove it! \n",
    "data_dict.pop(\"TOTAL\", 0)\n",
    "\n",
    "\n",
    "### the input features we want to use \n",
    "### can be any key in the person-level dictionary (salary, director_fees, etc.) \n",
    "feature_1 = \"salary\"\n",
    "feature_2 = \"exercised_stock_options\"\n",
    "feature_3 =\"total_payments\"\n",
    "poi  = \"poi\"\n",
    "features_list = [poi, feature_1, feature_2,feature_3]\n",
    "data = featureFormat(data_dict, features_list )\n",
    "poi, finance_features = targetFeatureSplit( data )\n",
    "\n",
    "\n",
    "### in the \"clustering with 3 features\" part of the mini-project,\n",
    "### you'll want to change this line to \n",
    "### for f1, f2, _ in finance_features:\n",
    "### (as it's currently written, the line below assumes 2 features)\n",
    "for f1, f2,f3 in finance_features:\n",
    "    plt.scatter( f1, f2 )\n",
    "plt.show()\n",
    "\n",
    "### cluster here; create predictions of the cluster labels\n",
    "### for the data and store them to a list called pred\n",
    "\n",
    "from sklearn.cluster import KMeans\n",
    "import numpy as np\n",
    "kmeans = KMeans(n_clusters=3, random_state=0).fit(finance_features)\n",
    "pred=kmeans.predict(finance_features)\n",
    "print(kmeans.labels_)\n",
    "\n",
    "### rename the \"name\" parameter when you change the number of features\n",
    "### so that the figure gets saved to a different file\n",
    "try:\n",
    "    Draw(pred, finance_features, poi, mark_poi=False, name=\"clusters.pdf\", f1_name=feature_1, f2_name=feature_2)\n",
    "except NameError:\n",
    "    print \"no predictions object named pred found, no clusters to plot\"\n"
   ]
  },
  {
   "cell_type": "code",
   "execution_count": 28,
   "metadata": {},
   "outputs": [
    {
     "name": "stdout",
     "output_type": "stream",
     "text": [
      "     feature_1   feature_2    feature_3\n",
      "0     365788.0         0.0    1061827.0\n",
      "27         0.0         0.0     228656.0\n",
      "60         0.0         0.0       2151.0\n",
      "91         0.0         0.0       1279.0\n",
      "31    231330.0         0.0     969068.0\n",
      "32         0.0         0.0        475.0\n",
      "89    239502.0         0.0    1112087.0\n",
      "34         0.0         0.0        148.0\n",
      "35    211788.0         0.0    2081796.0\n",
      "88         0.0         0.0      27942.0\n",
      "37         0.0         0.0       7961.0\n",
      "39    224305.0         0.0    2652612.0\n",
      "40    273746.0         0.0    2664228.0\n",
      "83    240189.0         0.0    1639297.0\n",
      "81    440698.0         0.0    2424083.0\n",
      "44         0.0         0.0     213071.0\n",
      "72    278601.0         0.0    2669589.0\n",
      "65    184899.0         0.0     807956.0\n",
      "53    174246.0         0.0     704896.0\n",
      "62    261516.0         0.0    1271582.0\n",
      "26    187922.0         0.0     618850.0\n",
      "25         0.0         0.0     189583.0\n",
      "94      6615.0         0.0    1146658.0\n",
      "113   261809.0         0.0     477557.0\n",
      "135   415189.0         0.0    1868758.0\n",
      "96         0.0         0.0     362096.0\n",
      "97         0.0         0.0     774401.0\n",
      "19     63744.0         0.0     762135.0\n",
      "134        0.0         0.0     119292.0\n",
      "129        0.0         0.0       3750.0\n",
      "..         ...         ...          ...\n",
      "130    85274.0   2165172.0    1979596.0\n",
      "14         0.0   2218275.0     966522.0\n",
      "10    130724.0   2282768.0    3100224.0\n",
      "56    365163.0   2291113.0    4747979.0\n",
      "133   330546.0   2542813.0    2355702.0\n",
      "59    236457.0   2549361.0     875889.0\n",
      "112        0.0   2604490.0   15456290.0\n",
      "136   265214.0   3181250.0    1092663.0\n",
      "54    510364.0   3282960.0    4677574.0\n",
      "46       477.0   4046157.0     916197.0\n",
      "41    339288.0   4158995.0   10425757.0\n",
      "110    76399.0   4160672.0     394475.0\n",
      "21    357091.0   4346544.0    1798780.0\n",
      "80    222093.0   4452476.0     911453.0\n",
      "2     170941.0   4890344.0     211725.0\n",
      "102        0.0   5127155.0          0.0\n",
      "8          0.0   5210569.0    3131860.0\n",
      "87     94941.0   5266578.0     249787.0\n",
      "4     243293.0   5538001.0     288682.0\n",
      "1     267102.0   6680544.0    5634343.0\n",
      "76     96840.0   7509039.0     111529.0\n",
      "111   262788.0   8191755.0    2368151.0\n",
      "119   158403.0   8308552.0     360300.0\n",
      "122   492375.0   8831913.0     550981.0\n",
      "123  1060932.0  10433518.0   17252530.0\n",
      "124   261879.0  15364167.0    3123383.0\n",
      "90   1111258.0  19250000.0    8682716.0\n",
      "84    420636.0  19794175.0     505050.0\n",
      "120        0.0  30766064.0      91093.0\n",
      "61   1072321.0  34348384.0  103559793.0\n",
      "\n",
      "[139 rows x 3 columns]\n"
     ]
    }
   ],
   "source": [
    "import pandas as pd\n",
    "er=pd.DataFrame(finance_features, columns=['feature_1', 'feature_2','feature_3'])\n",
    "print(er.sort_values(by='feature_2'))\n",
    "er.to_csv('12.csv')"
   ]
  },
  {
   "cell_type": "code",
   "execution_count": null,
   "metadata": {
    "collapsed": true
   },
   "outputs": [],
   "source": []
  }
 ],
 "metadata": {
  "kernelspec": {
   "display_name": "Python 2",
   "language": "python",
   "name": "python2"
  },
  "language_info": {
   "codemirror_mode": {
    "name": "ipython",
    "version": 2
   },
   "file_extension": ".py",
   "mimetype": "text/x-python",
   "name": "python",
   "nbconvert_exporter": "python",
   "pygments_lexer": "ipython2",
   "version": "2.7.13"
  }
 },
 "nbformat": 4,
 "nbformat_minor": 2
}
